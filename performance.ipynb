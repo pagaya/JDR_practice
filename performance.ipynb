{
 "cells": [
  {
   "cell_type": "code",
   "execution_count": 18,
   "metadata": {},
   "outputs": [],
   "source": [
    "import numpy as np\n",
    "import pandas as pd\n",
    "import numexpr"
   ]
  },
  {
   "cell_type": "code",
   "execution_count": 19,
   "metadata": {},
   "outputs": [
    {
     "name": "stdout",
     "output_type": "stream",
     "text": [
      "<class 'pandas.core.frame.DataFrame'>\n",
      "RangeIndex: 50000000 entries, 0 to 49999999\n",
      "Data columns (total 4 columns):\n",
      " #   Column  Dtype  \n",
      "---  ------  -----  \n",
      " 0   0       float64\n",
      " 1   1       float64\n",
      " 2   2       float64\n",
      " 3   3       float64\n",
      "dtypes: float64(4)\n",
      "memory usage: 1.5 GB\n"
     ]
    }
   ],
   "source": [
    "cols = 4\n",
    "rows = int(5e7)\n",
    "A = pd.DataFrame(np.random.rand(rows,cols))\n",
    "A.info(memory_usage='deep')"
   ]
  },
  {
   "cell_type": "markdown",
   "metadata": {},
   "source": [
    "## Assignment"
   ]
  },
  {
   "cell_type": "markdown",
   "metadata": {},
   "source": [
    "### df[]"
   ]
  },
  {
   "cell_type": "code",
   "execution_count": 20,
   "metadata": {},
   "outputs": [
    {
     "name": "stdout",
     "output_type": "stream",
     "text": [
      "470 ms ± 171 ms per loop (mean ± std. dev. of 7 runs, 1 loop each)\n"
     ]
    }
   ],
   "source": [
    "def fun1(M):\n",
    "    M['new'] =1\n",
    "    return(M)\n",
    "%timeit fun1(A) "
   ]
  },
  {
   "cell_type": "markdown",
   "metadata": {},
   "source": [
    "### df.assign"
   ]
  },
  {
   "cell_type": "code",
   "execution_count": 21,
   "metadata": {},
   "outputs": [
    {
     "name": "stdout",
     "output_type": "stream",
     "text": [
      "1.65 s ± 78.5 ms per loop (mean ± std. dev. of 7 runs, 1 loop each)\n"
     ]
    }
   ],
   "source": [
    "def fun2(M):\n",
    "    return(M.assign(new = 1))\n",
    "%timeit fun2(A) #"
   ]
  },
  {
   "cell_type": "markdown",
   "metadata": {},
   "source": [
    "### df.eval"
   ]
  },
  {
   "cell_type": "code",
   "execution_count": 22,
   "metadata": {},
   "outputs": [
    {
     "name": "stdout",
     "output_type": "stream",
     "text": [
      "2.02 s ± 37.5 ms per loop (mean ± std. dev. of 7 runs, 1 loop each)\n"
     ]
    }
   ],
   "source": [
    "# assign\n",
    "def fun3(M):\n",
    "    return(M.eval('new =1'))\n",
    "%timeit fun3(A) # \n"
   ]
  },
  {
   "cell_type": "markdown",
   "metadata": {},
   "source": [
    "## Filter"
   ]
  },
  {
   "cell_type": "markdown",
   "metadata": {},
   "source": [
    "### query\n"
   ]
  },
  {
   "cell_type": "code",
   "execution_count": 23,
   "metadata": {},
   "outputs": [
    {
     "data": {
      "text/html": [
       "<div>\n",
       "<style scoped>\n",
       "    .dataframe tbody tr th:only-of-type {\n",
       "        vertical-align: middle;\n",
       "    }\n",
       "\n",
       "    .dataframe tbody tr th {\n",
       "        vertical-align: top;\n",
       "    }\n",
       "\n",
       "    .dataframe thead th {\n",
       "        text-align: right;\n",
       "    }\n",
       "</style>\n",
       "<table border=\"1\" class=\"dataframe\">\n",
       "  <thead>\n",
       "    <tr style=\"text-align: right;\">\n",
       "      <th></th>\n",
       "      <th>0</th>\n",
       "      <th>1</th>\n",
       "      <th>2</th>\n",
       "      <th>3</th>\n",
       "      <th>group</th>\n",
       "    </tr>\n",
       "  </thead>\n",
       "  <tbody>\n",
       "    <tr>\n",
       "      <th>0</th>\n",
       "      <td>0.790093</td>\n",
       "      <td>0.149202</td>\n",
       "      <td>0.652038</td>\n",
       "      <td>0.975080</td>\n",
       "      <td>1</td>\n",
       "    </tr>\n",
       "    <tr>\n",
       "      <th>1</th>\n",
       "      <td>0.108749</td>\n",
       "      <td>0.019993</td>\n",
       "      <td>0.202309</td>\n",
       "      <td>0.117972</td>\n",
       "      <td>1</td>\n",
       "    </tr>\n",
       "    <tr>\n",
       "      <th>2</th>\n",
       "      <td>0.285863</td>\n",
       "      <td>0.904456</td>\n",
       "      <td>0.029920</td>\n",
       "      <td>0.478838</td>\n",
       "      <td>0</td>\n",
       "    </tr>\n",
       "    <tr>\n",
       "      <th>3</th>\n",
       "      <td>0.972224</td>\n",
       "      <td>0.009880</td>\n",
       "      <td>0.503374</td>\n",
       "      <td>0.003457</td>\n",
       "      <td>1</td>\n",
       "    </tr>\n",
       "    <tr>\n",
       "      <th>4</th>\n",
       "      <td>0.344750</td>\n",
       "      <td>0.140094</td>\n",
       "      <td>0.155985</td>\n",
       "      <td>0.585301</td>\n",
       "      <td>3</td>\n",
       "    </tr>\n",
       "  </tbody>\n",
       "</table>\n",
       "</div>"
      ],
      "text/plain": [
       "          0         1         2         3  group\n",
       "0  0.790093  0.149202  0.652038  0.975080      1\n",
       "1  0.108749  0.019993  0.202309  0.117972      1\n",
       "2  0.285863  0.904456  0.029920  0.478838      0\n",
       "3  0.972224  0.009880  0.503374  0.003457      1\n",
       "4  0.344750  0.140094  0.155985  0.585301      3"
      ]
     },
     "execution_count": 23,
     "metadata": {},
     "output_type": "execute_result"
    }
   ],
   "source": [
    "A = pd.DataFrame(np.random.rand(rows,cols))\n",
    "A['group'] = np.random.randint(0,4,rows)\n",
    "A.head()"
   ]
  },
  {
   "cell_type": "code",
   "execution_count": 24,
   "metadata": {},
   "outputs": [
    {
     "name": "stdout",
     "output_type": "stream",
     "text": [
      "1.02 s ± 7.84 ms per loop (mean ± std. dev. of 7 runs, 1 loop each)\n"
     ]
    }
   ],
   "source": [
    "%timeit A.query('group == 1')"
   ]
  },
  {
   "cell_type": "code",
   "execution_count": 25,
   "metadata": {},
   "outputs": [
    {
     "data": {
      "text/plain": [
       "False"
      ]
     },
     "execution_count": 25,
     "metadata": {},
     "output_type": "execute_result"
    }
   ],
   "source": [
    "A.query('group == 1')._is_view"
   ]
  },
  {
   "cell_type": "code",
   "execution_count": 26,
   "metadata": {},
   "outputs": [
    {
     "name": "stdout",
     "output_type": "stream",
     "text": [
      "579 ms ± 5.13 ms per loop (mean ± std. dev. of 7 runs, 1 loop each)\n"
     ]
    }
   ],
   "source": [
    "%timeit A[A['group']==1]"
   ]
  },
  {
   "cell_type": "code",
   "execution_count": 27,
   "metadata": {},
   "outputs": [
    {
     "data": {
      "text/plain": [
       "False"
      ]
     },
     "execution_count": 27,
     "metadata": {},
     "output_type": "execute_result"
    }
   ],
   "source": [
    "A[A['group']==1]._is_view"
   ]
  },
  {
   "cell_type": "code",
   "execution_count": 28,
   "metadata": {},
   "outputs": [
    {
     "name": "stdout",
     "output_type": "stream",
     "text": [
      "680 ms ± 28.9 ms per loop (mean ± std. dev. of 7 runs, 1 loop each)\n"
     ]
    }
   ],
   "source": [
    "B = A.set_index('group')\n",
    "%timeit B.loc[1]"
   ]
  },
  {
   "cell_type": "code",
   "execution_count": 29,
   "metadata": {},
   "outputs": [
    {
     "data": {
      "text/html": [
       "<div>\n",
       "<style scoped>\n",
       "    .dataframe tbody tr th:only-of-type {\n",
       "        vertical-align: middle;\n",
       "    }\n",
       "\n",
       "    .dataframe tbody tr th {\n",
       "        vertical-align: top;\n",
       "    }\n",
       "\n",
       "    .dataframe thead th {\n",
       "        text-align: right;\n",
       "    }\n",
       "</style>\n",
       "<table border=\"1\" class=\"dataframe\">\n",
       "  <thead>\n",
       "    <tr style=\"text-align: right;\">\n",
       "      <th></th>\n",
       "      <th>0</th>\n",
       "      <th>1</th>\n",
       "      <th>2</th>\n",
       "      <th>3</th>\n",
       "    </tr>\n",
       "    <tr>\n",
       "      <th>group</th>\n",
       "      <th></th>\n",
       "      <th></th>\n",
       "      <th></th>\n",
       "      <th></th>\n",
       "    </tr>\n",
       "  </thead>\n",
       "  <tbody>\n",
       "    <tr>\n",
       "      <th>1</th>\n",
       "      <td>0.790093</td>\n",
       "      <td>0.149202</td>\n",
       "      <td>0.652038</td>\n",
       "      <td>0.975080</td>\n",
       "    </tr>\n",
       "    <tr>\n",
       "      <th>1</th>\n",
       "      <td>0.108749</td>\n",
       "      <td>0.019993</td>\n",
       "      <td>0.202309</td>\n",
       "      <td>0.117972</td>\n",
       "    </tr>\n",
       "    <tr>\n",
       "      <th>1</th>\n",
       "      <td>0.972224</td>\n",
       "      <td>0.009880</td>\n",
       "      <td>0.503374</td>\n",
       "      <td>0.003457</td>\n",
       "    </tr>\n",
       "    <tr>\n",
       "      <th>1</th>\n",
       "      <td>0.339143</td>\n",
       "      <td>0.455876</td>\n",
       "      <td>0.427886</td>\n",
       "      <td>0.971892</td>\n",
       "    </tr>\n",
       "    <tr>\n",
       "      <th>1</th>\n",
       "      <td>0.163973</td>\n",
       "      <td>0.686110</td>\n",
       "      <td>0.813946</td>\n",
       "      <td>0.415434</td>\n",
       "    </tr>\n",
       "    <tr>\n",
       "      <th>...</th>\n",
       "      <td>...</td>\n",
       "      <td>...</td>\n",
       "      <td>...</td>\n",
       "      <td>...</td>\n",
       "    </tr>\n",
       "    <tr>\n",
       "      <th>1</th>\n",
       "      <td>0.387997</td>\n",
       "      <td>0.617476</td>\n",
       "      <td>0.578729</td>\n",
       "      <td>0.128652</td>\n",
       "    </tr>\n",
       "    <tr>\n",
       "      <th>1</th>\n",
       "      <td>0.345594</td>\n",
       "      <td>0.872919</td>\n",
       "      <td>0.032477</td>\n",
       "      <td>0.459502</td>\n",
       "    </tr>\n",
       "    <tr>\n",
       "      <th>1</th>\n",
       "      <td>0.390411</td>\n",
       "      <td>0.654556</td>\n",
       "      <td>0.897343</td>\n",
       "      <td>0.872757</td>\n",
       "    </tr>\n",
       "    <tr>\n",
       "      <th>1</th>\n",
       "      <td>0.694026</td>\n",
       "      <td>0.874238</td>\n",
       "      <td>0.919216</td>\n",
       "      <td>0.096783</td>\n",
       "    </tr>\n",
       "    <tr>\n",
       "      <th>1</th>\n",
       "      <td>0.318595</td>\n",
       "      <td>0.005475</td>\n",
       "      <td>0.547288</td>\n",
       "      <td>0.229255</td>\n",
       "    </tr>\n",
       "  </tbody>\n",
       "</table>\n",
       "<p>12502460 rows × 4 columns</p>\n",
       "</div>"
      ],
      "text/plain": [
       "              0         1         2         3\n",
       "group                                        \n",
       "1      0.790093  0.149202  0.652038  0.975080\n",
       "1      0.108749  0.019993  0.202309  0.117972\n",
       "1      0.972224  0.009880  0.503374  0.003457\n",
       "1      0.339143  0.455876  0.427886  0.971892\n",
       "1      0.163973  0.686110  0.813946  0.415434\n",
       "...         ...       ...       ...       ...\n",
       "1      0.387997  0.617476  0.578729  0.128652\n",
       "1      0.345594  0.872919  0.032477  0.459502\n",
       "1      0.390411  0.654556  0.897343  0.872757\n",
       "1      0.694026  0.874238  0.919216  0.096783\n",
       "1      0.318595  0.005475  0.547288  0.229255\n",
       "\n",
       "[12502460 rows x 4 columns]"
      ]
     },
     "execution_count": 29,
     "metadata": {},
     "output_type": "execute_result"
    }
   ],
   "source": [
    "B.loc[1] # verifying that identical to query"
   ]
  },
  {
   "cell_type": "code",
   "execution_count": 30,
   "metadata": {},
   "outputs": [],
   "source": [
    "A = A.astype({'group':\"category\"})\n"
   ]
  },
  {
   "cell_type": "code",
   "execution_count": 31,
   "metadata": {},
   "outputs": [
    {
     "name": "stdout",
     "output_type": "stream",
     "text": [
      "1.42 s ± 16.8 ms per loop (mean ± std. dev. of 7 runs, 1 loop each)\n"
     ]
    }
   ],
   "source": [
    "%timeit A.query('group == 1')"
   ]
  },
  {
   "cell_type": "code",
   "execution_count": 32,
   "metadata": {},
   "outputs": [],
   "source": [
    "A = A.astype({'group':str})\n"
   ]
  },
  {
   "cell_type": "code",
   "execution_count": 33,
   "metadata": {},
   "outputs": [
    {
     "name": "stdout",
     "output_type": "stream",
     "text": [
      "2.34 s ± 119 ms per loop (mean ± std. dev. of 7 runs, 1 loop each)\n"
     ]
    }
   ],
   "source": [
    "%timeit A.query('group == \"1\"')"
   ]
  },
  {
   "cell_type": "code",
   "execution_count": 34,
   "metadata": {},
   "outputs": [
    {
     "name": "stdout",
     "output_type": "stream",
     "text": [
      "2.6 s ± 80.4 ms per loop (mean ± std. dev. of 7 runs, 1 loop each)\n"
     ]
    }
   ],
   "source": [
    "%timeit A[A['group']==1]"
   ]
  },
  {
   "cell_type": "markdown",
   "metadata": {},
   "source": [
    "## Filter on multiple columns"
   ]
  },
  {
   "cell_type": "code",
   "execution_count": 35,
   "metadata": {},
   "outputs": [
    {
     "data": {
      "text/html": [
       "<div>\n",
       "<style scoped>\n",
       "    .dataframe tbody tr th:only-of-type {\n",
       "        vertical-align: middle;\n",
       "    }\n",
       "\n",
       "    .dataframe tbody tr th {\n",
       "        vertical-align: top;\n",
       "    }\n",
       "\n",
       "    .dataframe thead th {\n",
       "        text-align: right;\n",
       "    }\n",
       "</style>\n",
       "<table border=\"1\" class=\"dataframe\">\n",
       "  <thead>\n",
       "    <tr style=\"text-align: right;\">\n",
       "      <th></th>\n",
       "      <th>0</th>\n",
       "      <th>1</th>\n",
       "      <th>2</th>\n",
       "      <th>3</th>\n",
       "      <th>group1</th>\n",
       "      <th>group2</th>\n",
       "      <th>group3</th>\n",
       "      <th>group4</th>\n",
       "    </tr>\n",
       "  </thead>\n",
       "  <tbody>\n",
       "    <tr>\n",
       "      <th>0</th>\n",
       "      <td>0.715060</td>\n",
       "      <td>0.079057</td>\n",
       "      <td>0.146865</td>\n",
       "      <td>0.483524</td>\n",
       "      <td>2</td>\n",
       "      <td>0</td>\n",
       "      <td>2</td>\n",
       "      <td>2</td>\n",
       "    </tr>\n",
       "    <tr>\n",
       "      <th>1</th>\n",
       "      <td>0.620963</td>\n",
       "      <td>0.331784</td>\n",
       "      <td>0.089985</td>\n",
       "      <td>0.419977</td>\n",
       "      <td>3</td>\n",
       "      <td>2</td>\n",
       "      <td>3</td>\n",
       "      <td>0</td>\n",
       "    </tr>\n",
       "    <tr>\n",
       "      <th>2</th>\n",
       "      <td>0.174324</td>\n",
       "      <td>0.883727</td>\n",
       "      <td>0.913365</td>\n",
       "      <td>0.747337</td>\n",
       "      <td>1</td>\n",
       "      <td>0</td>\n",
       "      <td>0</td>\n",
       "      <td>0</td>\n",
       "    </tr>\n",
       "    <tr>\n",
       "      <th>3</th>\n",
       "      <td>0.155817</td>\n",
       "      <td>0.002392</td>\n",
       "      <td>0.683785</td>\n",
       "      <td>0.636138</td>\n",
       "      <td>3</td>\n",
       "      <td>2</td>\n",
       "      <td>0</td>\n",
       "      <td>2</td>\n",
       "    </tr>\n",
       "    <tr>\n",
       "      <th>4</th>\n",
       "      <td>0.523497</td>\n",
       "      <td>0.537296</td>\n",
       "      <td>0.732802</td>\n",
       "      <td>0.295025</td>\n",
       "      <td>2</td>\n",
       "      <td>0</td>\n",
       "      <td>3</td>\n",
       "      <td>1</td>\n",
       "    </tr>\n",
       "  </tbody>\n",
       "</table>\n",
       "</div>"
      ],
      "text/plain": [
       "          0         1         2         3  group1  group2  group3  group4\n",
       "0  0.715060  0.079057  0.146865  0.483524       2       0       2       2\n",
       "1  0.620963  0.331784  0.089985  0.419977       3       2       3       0\n",
       "2  0.174324  0.883727  0.913365  0.747337       1       0       0       0\n",
       "3  0.155817  0.002392  0.683785  0.636138       3       2       0       2\n",
       "4  0.523497  0.537296  0.732802  0.295025       2       0       3       1"
      ]
     },
     "execution_count": 35,
     "metadata": {},
     "output_type": "execute_result"
    }
   ],
   "source": [
    "A = pd.DataFrame(np.random.rand(rows,cols))\n",
    "A['group1'] = np.random.randint(0,4,rows)\n",
    "A['group2'] = np.random.randint(0,4,rows)\n",
    "A['group3'] = np.random.randint(0,4,rows)\n",
    "A['group4'] = np.random.randint(0,4,rows)\n",
    "A.head()"
   ]
  },
  {
   "cell_type": "code",
   "execution_count": 36,
   "metadata": {},
   "outputs": [
    {
     "name": "stdout",
     "output_type": "stream",
     "text": [
      "570 ms ± 4.47 ms per loop (mean ± std. dev. of 7 runs, 1 loop each)\n"
     ]
    }
   ],
   "source": [
    "%timeit A.query('(group1 == 0) and (group2 == 0) and (group3 == 0) and (group4 == 0)')"
   ]
  },
  {
   "cell_type": "code",
   "execution_count": 37,
   "metadata": {},
   "outputs": [
    {
     "name": "stdout",
     "output_type": "stream",
     "text": [
      "224 ms ± 29.1 ms per loop (mean ± std. dev. of 7 runs, 1 loop each)\n"
     ]
    }
   ],
   "source": [
    "%timeit A[(A.group1==0) & (A.group2==0) & (A.group3==0) & (A.group4==0)]"
   ]
  },
  {
   "cell_type": "markdown",
   "metadata": {},
   "source": [
    "### Filtering on object dtypes"
   ]
  },
  {
   "cell_type": "code",
   "execution_count": 38,
   "metadata": {},
   "outputs": [],
   "source": [
    "cols = 4\n",
    "rows = int(5e6)\n",
    "A = pd.DataFrame(np.random.rand(rows,cols))\n",
    "A['object1'] = pd.Series(['a','b','c','d']).sample(rows, replace=True).values\n",
    "A['object2'] = pd.Series(['a','b','c','d']).sample(rows, replace=True).values\n",
    "A['object3'] = pd.Series(['a','b','c','d']).sample(rows, replace=True).values\n",
    "A['object4'] = pd.Series(['a','b','c','d']).sample(rows, replace=True).values\n"
   ]
  },
  {
   "cell_type": "code",
   "execution_count": 39,
   "metadata": {},
   "outputs": [
    {
     "name": "stdout",
     "output_type": "stream",
     "text": [
      "1.01 s ± 11.3 ms per loop (mean ± std. dev. of 7 runs, 1 loop each)\n"
     ]
    }
   ],
   "source": [
    "%timeit A[(A.object1=='a') & (A.object2=='a') & (A.object3=='a') & (A.object4=='a')]"
   ]
  },
  {
   "cell_type": "code",
   "execution_count": 40,
   "metadata": {},
   "outputs": [
    {
     "name": "stdout",
     "output_type": "stream",
     "text": [
      "602 ms ± 12.8 ms per loop (mean ± std. dev. of 7 runs, 1 loop each)\n"
     ]
    }
   ],
   "source": [
    "%timeit A.query('(object1==\\'a\\') and (object2==\\'a\\') and (object3==\\'a\\') and (object4==\\'a\\')')"
   ]
  },
  {
   "cell_type": "markdown",
   "metadata": {},
   "source": [
    "## Groupby"
   ]
  },
  {
   "cell_type": "markdown",
   "metadata": {},
   "source": [
    "### groupby apply\n"
   ]
  },
  {
   "cell_type": "code",
   "execution_count": 41,
   "metadata": {},
   "outputs": [
    {
     "data": {
      "text/html": [
       "<div>\n",
       "<style scoped>\n",
       "    .dataframe tbody tr th:only-of-type {\n",
       "        vertical-align: middle;\n",
       "    }\n",
       "\n",
       "    .dataframe tbody tr th {\n",
       "        vertical-align: top;\n",
       "    }\n",
       "\n",
       "    .dataframe thead th {\n",
       "        text-align: right;\n",
       "    }\n",
       "</style>\n",
       "<table border=\"1\" class=\"dataframe\">\n",
       "  <thead>\n",
       "    <tr style=\"text-align: right;\">\n",
       "      <th></th>\n",
       "      <th>value</th>\n",
       "      <th>group</th>\n",
       "    </tr>\n",
       "  </thead>\n",
       "  <tbody>\n",
       "    <tr>\n",
       "      <th>0</th>\n",
       "      <td>-0.177644</td>\n",
       "      <td>0</td>\n",
       "    </tr>\n",
       "    <tr>\n",
       "      <th>1</th>\n",
       "      <td>-1.375356</td>\n",
       "      <td>1</td>\n",
       "    </tr>\n",
       "    <tr>\n",
       "      <th>2</th>\n",
       "      <td>-0.874615</td>\n",
       "      <td>2</td>\n",
       "    </tr>\n",
       "    <tr>\n",
       "      <th>3</th>\n",
       "      <td>0.019944</td>\n",
       "      <td>3</td>\n",
       "    </tr>\n",
       "    <tr>\n",
       "      <th>4</th>\n",
       "      <td>0.960310</td>\n",
       "      <td>0</td>\n",
       "    </tr>\n",
       "    <tr>\n",
       "      <th>5</th>\n",
       "      <td>-0.158121</td>\n",
       "      <td>1</td>\n",
       "    </tr>\n",
       "    <tr>\n",
       "      <th>6</th>\n",
       "      <td>-2.119782</td>\n",
       "      <td>2</td>\n",
       "    </tr>\n",
       "    <tr>\n",
       "      <th>7</th>\n",
       "      <td>-0.727461</td>\n",
       "      <td>3</td>\n",
       "    </tr>\n",
       "    <tr>\n",
       "      <th>8</th>\n",
       "      <td>-1.531364</td>\n",
       "      <td>0</td>\n",
       "    </tr>\n",
       "    <tr>\n",
       "      <th>9</th>\n",
       "      <td>1.223796</td>\n",
       "      <td>1</td>\n",
       "    </tr>\n",
       "  </tbody>\n",
       "</table>\n",
       "</div>"
      ],
      "text/plain": [
       "      value  group\n",
       "0 -0.177644      0\n",
       "1 -1.375356      1\n",
       "2 -0.874615      2\n",
       "3  0.019944      3\n",
       "4  0.960310      0\n",
       "5 -0.158121      1\n",
       "6 -2.119782      2\n",
       "7 -0.727461      3\n",
       "8 -1.531364      0\n",
       "9  1.223796      1"
      ]
     },
     "execution_count": 41,
     "metadata": {},
     "output_type": "execute_result"
    }
   ],
   "source": [
    "cols = 1\n",
    "A = pd.DataFrame(np.random.randn(rows,cols)).rename(columns={0:'value'})\n",
    "base = np.arange(0,4)\n",
    "A['group'] = np.tile(base, rows//len(base))\n",
    "A.head(10)"
   ]
  },
  {
   "cell_type": "code",
   "execution_count": 42,
   "metadata": {},
   "outputs": [
    {
     "name": "stdout",
     "output_type": "stream",
     "text": [
      "229 ms ± 2.74 ms per loop (mean ± std. dev. of 7 runs, 1 loop each)\n"
     ]
    }
   ],
   "source": [
    "%timeit  A.groupby('group').apply(lambda x:x['value'].max()-x['value'].min())"
   ]
  },
  {
   "cell_type": "code",
   "execution_count": 43,
   "metadata": {},
   "outputs": [
    {
     "name": "stdout",
     "output_type": "stream",
     "text": [
      "188 ms ± 1.45 ms per loop (mean ± std. dev. of 7 runs, 10 loops each)\n"
     ]
    }
   ],
   "source": [
    "%timeit  A.groupby('group')['value'].apply(lambda x:x.max()-x.min())"
   ]
  },
  {
   "cell_type": "code",
   "execution_count": 44,
   "metadata": {},
   "outputs": [
    {
     "name": "stdout",
     "output_type": "stream",
     "text": [
      "172 ms ± 1.44 ms per loop (mean ± std. dev. of 7 runs, 10 loops each)\n"
     ]
    }
   ],
   "source": [
    "%timeit  A.groupby('group')['value'].apply(np.ptp)"
   ]
  },
  {
   "cell_type": "code",
   "execution_count": 45,
   "metadata": {},
   "outputs": [
    {
     "name": "stdout",
     "output_type": "stream",
     "text": [
      "191 ms ± 1.82 ms per loop (mean ± std. dev. of 7 runs, 1 loop each)\n"
     ]
    }
   ],
   "source": [
    "%timeit A.groupby('group').agg(np.ptp)"
   ]
  },
  {
   "cell_type": "code",
   "execution_count": 46,
   "metadata": {},
   "outputs": [
    {
     "name": "stdout",
     "output_type": "stream",
     "text": [
      "177 ms ± 1.53 ms per loop (mean ± std. dev. of 7 runs, 10 loops each)\n"
     ]
    }
   ],
   "source": [
    "%timeit A.groupby('group').agg({'value':np.ptp})"
   ]
  },
  {
   "cell_type": "markdown",
   "metadata": {},
   "source": [
    "### agg without np.ptp"
   ]
  },
  {
   "cell_type": "code",
   "execution_count": 47,
   "metadata": {},
   "outputs": [
    {
     "name": "stdout",
     "output_type": "stream",
     "text": [
      "189 ms ± 927 µs per loop (mean ± std. dev. of 7 runs, 10 loops each)\n"
     ]
    }
   ],
   "source": [
    "%timeit  A.groupby('group')['value'].agg(lambda x:x.max()-x.min())"
   ]
  },
  {
   "cell_type": "code",
   "execution_count": 48,
   "metadata": {},
   "outputs": [
    {
     "name": "stdout",
     "output_type": "stream",
     "text": [
      "90.6 ms ± 3.06 ms per loop (mean ± std. dev. of 7 runs, 10 loops each)\n"
     ]
    }
   ],
   "source": [
    "def my_ptp(A):\n",
    "    Ag = A.groupby('group')\n",
    "    return(Ag.max()-Ag.min())\n",
    "%timeit  my_ptp(A)"
   ]
  },
  {
   "cell_type": "code",
   "execution_count": 49,
   "metadata": {},
   "outputs": [
    {
     "name": "stdout",
     "output_type": "stream",
     "text": [
      "217 ms ± 27.4 ms per loop (mean ± std. dev. of 7 runs, 1 loop each)\n"
     ]
    }
   ],
   "source": [
    "def ptp1(x):\n",
    "    return(x.max()-x.min())\n",
    "\n",
    "%timeit  A.groupby('group')['value'].agg(ptp1)"
   ]
  },
  {
   "cell_type": "code",
   "execution_count": 50,
   "metadata": {},
   "outputs": [
    {
     "name": "stdout",
     "output_type": "stream",
     "text": [
      "196 ms ± 8.26 ms per loop (mean ± std. dev. of 7 runs, 1 loop each)\n"
     ]
    }
   ],
   "source": [
    "%timeit  A.groupby('group')['value'].agg(ptp1, engine='cython')"
   ]
  },
  {
   "cell_type": "code",
   "execution_count": 51,
   "metadata": {},
   "outputs": [],
   "source": [
    "# needs debugging\n",
    "# %timeit f = A.groupby('group')['value'].agg(ptp1, engine='numba')"
   ]
  },
  {
   "cell_type": "markdown",
   "metadata": {},
   "source": [
    "### pivot"
   ]
  },
  {
   "cell_type": "code",
   "execution_count": 52,
   "metadata": {},
   "outputs": [
    {
     "name": "stdout",
     "output_type": "stream",
     "text": [
      "195 ms ± 2.31 ms per loop (mean ± std. dev. of 7 runs, 1 loop each)\n"
     ]
    }
   ],
   "source": [
    "%timeit  pd.pivot_table(A, values='value', index='group', aggfunc=np.ptp)"
   ]
  },
  {
   "cell_type": "markdown",
   "metadata": {},
   "source": [
    "### stack with rowwise operation?\n",
    "\n",
    "- The stacking may be expensive but is done once. \n",
    "- The data also needs to be structured enough. May be padded with NAs if required. "
   ]
  },
  {
   "cell_type": "code",
   "execution_count": 53,
   "metadata": {},
   "outputs": [
    {
     "data": {
      "text/html": [
       "<div>\n",
       "<style scoped>\n",
       "    .dataframe tbody tr th:only-of-type {\n",
       "        vertical-align: middle;\n",
       "    }\n",
       "\n",
       "    .dataframe tbody tr th {\n",
       "        vertical-align: top;\n",
       "    }\n",
       "\n",
       "    .dataframe thead tr th {\n",
       "        text-align: left;\n",
       "    }\n",
       "\n",
       "    .dataframe thead tr:last-of-type th {\n",
       "        text-align: right;\n",
       "    }\n",
       "</style>\n",
       "<table border=\"1\" class=\"dataframe\">\n",
       "  <thead>\n",
       "    <tr>\n",
       "      <th></th>\n",
       "      <th colspan=\"21\" halign=\"left\">value</th>\n",
       "    </tr>\n",
       "    <tr>\n",
       "      <th>id</th>\n",
       "      <th>0</th>\n",
       "      <th>1</th>\n",
       "      <th>2</th>\n",
       "      <th>3</th>\n",
       "      <th>4</th>\n",
       "      <th>5</th>\n",
       "      <th>6</th>\n",
       "      <th>7</th>\n",
       "      <th>8</th>\n",
       "      <th>9</th>\n",
       "      <th>...</th>\n",
       "      <th>1249990</th>\n",
       "      <th>1249991</th>\n",
       "      <th>1249992</th>\n",
       "      <th>1249993</th>\n",
       "      <th>1249994</th>\n",
       "      <th>1249995</th>\n",
       "      <th>1249996</th>\n",
       "      <th>1249997</th>\n",
       "      <th>1249998</th>\n",
       "      <th>1249999</th>\n",
       "    </tr>\n",
       "    <tr>\n",
       "      <th>group</th>\n",
       "      <th></th>\n",
       "      <th></th>\n",
       "      <th></th>\n",
       "      <th></th>\n",
       "      <th></th>\n",
       "      <th></th>\n",
       "      <th></th>\n",
       "      <th></th>\n",
       "      <th></th>\n",
       "      <th></th>\n",
       "      <th></th>\n",
       "      <th></th>\n",
       "      <th></th>\n",
       "      <th></th>\n",
       "      <th></th>\n",
       "      <th></th>\n",
       "      <th></th>\n",
       "      <th></th>\n",
       "      <th></th>\n",
       "      <th></th>\n",
       "      <th></th>\n",
       "    </tr>\n",
       "  </thead>\n",
       "  <tbody>\n",
       "    <tr>\n",
       "      <th>0</th>\n",
       "      <td>-0.177644</td>\n",
       "      <td>0.960310</td>\n",
       "      <td>-1.531364</td>\n",
       "      <td>0.725363</td>\n",
       "      <td>-1.652571</td>\n",
       "      <td>-0.944556</td>\n",
       "      <td>-0.142448</td>\n",
       "      <td>-1.818574</td>\n",
       "      <td>-0.473249</td>\n",
       "      <td>0.131492</td>\n",
       "      <td>...</td>\n",
       "      <td>2.736597</td>\n",
       "      <td>-1.241736</td>\n",
       "      <td>0.591101</td>\n",
       "      <td>-0.249507</td>\n",
       "      <td>-0.763951</td>\n",
       "      <td>-0.336212</td>\n",
       "      <td>1.168941</td>\n",
       "      <td>-0.566667</td>\n",
       "      <td>-0.961223</td>\n",
       "      <td>-1.368270</td>\n",
       "    </tr>\n",
       "    <tr>\n",
       "      <th>1</th>\n",
       "      <td>-1.375356</td>\n",
       "      <td>-0.158121</td>\n",
       "      <td>1.223796</td>\n",
       "      <td>0.280249</td>\n",
       "      <td>-0.999894</td>\n",
       "      <td>-0.608120</td>\n",
       "      <td>0.895123</td>\n",
       "      <td>0.080154</td>\n",
       "      <td>1.391215</td>\n",
       "      <td>-1.018439</td>\n",
       "      <td>...</td>\n",
       "      <td>-1.224880</td>\n",
       "      <td>-0.249292</td>\n",
       "      <td>-0.654399</td>\n",
       "      <td>0.434519</td>\n",
       "      <td>0.291383</td>\n",
       "      <td>0.694229</td>\n",
       "      <td>2.794424</td>\n",
       "      <td>-0.878539</td>\n",
       "      <td>1.283029</td>\n",
       "      <td>0.348305</td>\n",
       "    </tr>\n",
       "    <tr>\n",
       "      <th>2</th>\n",
       "      <td>-0.874615</td>\n",
       "      <td>-2.119782</td>\n",
       "      <td>0.099949</td>\n",
       "      <td>0.613193</td>\n",
       "      <td>-0.538672</td>\n",
       "      <td>2.020434</td>\n",
       "      <td>0.466020</td>\n",
       "      <td>-0.432164</td>\n",
       "      <td>0.845843</td>\n",
       "      <td>-0.043639</td>\n",
       "      <td>...</td>\n",
       "      <td>1.015951</td>\n",
       "      <td>-0.518561</td>\n",
       "      <td>-1.624884</td>\n",
       "      <td>0.092847</td>\n",
       "      <td>-0.693063</td>\n",
       "      <td>-0.469995</td>\n",
       "      <td>0.820167</td>\n",
       "      <td>-1.563106</td>\n",
       "      <td>-1.013027</td>\n",
       "      <td>0.218124</td>\n",
       "    </tr>\n",
       "    <tr>\n",
       "      <th>3</th>\n",
       "      <td>0.019944</td>\n",
       "      <td>-0.727461</td>\n",
       "      <td>1.231646</td>\n",
       "      <td>-1.501745</td>\n",
       "      <td>1.800069</td>\n",
       "      <td>-0.713026</td>\n",
       "      <td>1.610591</td>\n",
       "      <td>0.242695</td>\n",
       "      <td>-0.382019</td>\n",
       "      <td>-0.783716</td>\n",
       "      <td>...</td>\n",
       "      <td>1.049805</td>\n",
       "      <td>-0.452261</td>\n",
       "      <td>-0.494208</td>\n",
       "      <td>-0.170028</td>\n",
       "      <td>1.828070</td>\n",
       "      <td>-1.594659</td>\n",
       "      <td>-0.857613</td>\n",
       "      <td>0.403470</td>\n",
       "      <td>-0.587384</td>\n",
       "      <td>-1.065238</td>\n",
       "    </tr>\n",
       "  </tbody>\n",
       "</table>\n",
       "<p>4 rows × 1250000 columns</p>\n",
       "</div>"
      ],
      "text/plain": [
       "          value                                                              \\\n",
       "id      0         1         2         3         4         5         6         \n",
       "group                                                                         \n",
       "0     -0.177644  0.960310 -1.531364  0.725363 -1.652571 -0.944556 -0.142448   \n",
       "1     -1.375356 -0.158121  1.223796  0.280249 -0.999894 -0.608120  0.895123   \n",
       "2     -0.874615 -2.119782  0.099949  0.613193 -0.538672  2.020434  0.466020   \n",
       "3      0.019944 -0.727461  1.231646 -1.501745  1.800069 -0.713026  1.610591   \n",
       "\n",
       "                                     ...                                \\\n",
       "id      7         8         9        ...   1249990   1249991   1249992   \n",
       "group                                ...                                 \n",
       "0     -1.818574 -0.473249  0.131492  ...  2.736597 -1.241736  0.591101   \n",
       "1      0.080154  1.391215 -1.018439  ... -1.224880 -0.249292 -0.654399   \n",
       "2     -0.432164  0.845843 -0.043639  ...  1.015951 -0.518561 -1.624884   \n",
       "3      0.242695 -0.382019 -0.783716  ...  1.049805 -0.452261 -0.494208   \n",
       "\n",
       "                                                                             \n",
       "id      1249993   1249994   1249995   1249996   1249997   1249998   1249999  \n",
       "group                                                                        \n",
       "0     -0.249507 -0.763951 -0.336212  1.168941 -0.566667 -0.961223 -1.368270  \n",
       "1      0.434519  0.291383  0.694229  2.794424 -0.878539  1.283029  0.348305  \n",
       "2      0.092847 -0.693063 -0.469995  0.820167 -1.563106 -1.013027  0.218124  \n",
       "3     -0.170028  1.828070 -1.594659 -0.857613  0.403470 -0.587384 -1.065238  \n",
       "\n",
       "[4 rows x 1250000 columns]"
      ]
     },
     "execution_count": 53,
     "metadata": {},
     "output_type": "execute_result"
    }
   ],
   "source": [
    "B=A\n",
    "B['id']= B.groupby('group').cumcount()\n",
    "B_stacked = B.set_index(['group','id']).unstack()\n",
    "B_stacked.head()"
   ]
  },
  {
   "cell_type": "code",
   "execution_count": 54,
   "metadata": {},
   "outputs": [
    {
     "name": "stdout",
     "output_type": "stream",
     "text": [
      "4.13 s ± 174 ms per loop (mean ± std. dev. of 7 runs, 1 loop each)\n"
     ]
    }
   ],
   "source": [
    "# this is terrible!!!\n",
    "%timeit B_stacked.max(axis=1)-B_stacked.min(axis=1)"
   ]
  },
  {
   "cell_type": "code",
   "execution_count": 55,
   "metadata": {},
   "outputs": [
    {
     "name": "stdout",
     "output_type": "stream",
     "text": [
      "21.4 ms ± 241 µs per loop (mean ± std. dev. of 7 runs, 10 loops each)\n"
     ]
    }
   ],
   "source": [
    "%timeit B_stacked.apply(lambda x:x.max()-x.min(), axis=1)"
   ]
  },
  {
   "cell_type": "code",
   "execution_count": 56,
   "metadata": {},
   "outputs": [
    {
     "name": "stdout",
     "output_type": "stream",
     "text": [
      "105 ms ± 481 µs per loop (mean ± std. dev. of 7 runs, 10 loops each)\n"
     ]
    }
   ],
   "source": [
    "%timeit B_stacked.agg(np.ptp, axis=1)"
   ]
  },
  {
   "cell_type": "code",
   "execution_count": 57,
   "metadata": {},
   "outputs": [
    {
     "name": "stdout",
     "output_type": "stream",
     "text": [
      "121 ms ± 2.54 ms per loop (mean ± std. dev. of 7 runs, 10 loops each)\n"
     ]
    }
   ],
   "source": [
    "%timeit B_stacked.agg(ptp1, axis=1)"
   ]
  },
  {
   "cell_type": "code",
   "execution_count": 58,
   "metadata": {},
   "outputs": [
    {
     "name": "stdout",
     "output_type": "stream",
     "text": [
      "21.4 ms ± 314 µs per loop (mean ± std. dev. of 7 runs, 10 loops each)\n"
     ]
    }
   ],
   "source": [
    "%timeit B_stacked.apply(ptp1, axis=1)"
   ]
  },
  {
   "cell_type": "code",
   "execution_count": 62,
   "metadata": {},
   "outputs": [
    {
     "data": {
      "text/plain": [
       "group\n",
       "0    9.848997\n",
       "1    9.846293\n",
       "2    9.749873\n",
       "3    9.644163\n",
       "dtype: float64"
      ]
     },
     "execution_count": 62,
     "metadata": {},
     "output_type": "execute_result"
    }
   ],
   "source": [
    "C = B_stacked.T\n",
    "%timeit C.max(axis=0)-C.min(axis=0)"
   ]
  },
  {
   "cell_type": "code",
   "execution_count": 60,
   "metadata": {},
   "outputs": [
    {
     "name": "stdout",
     "output_type": "stream",
     "text": [
      "6.89 ms ± 110 µs per loop (mean ± std. dev. of 7 runs, 100 loops each)\n"
     ]
    }
   ],
   "source": [
    "%timeit C.agg(np.ptp, axis=0)"
   ]
  },
  {
   "cell_type": "code",
   "execution_count": 61,
   "metadata": {},
   "outputs": [
    {
     "name": "stdout",
     "output_type": "stream",
     "text": [
      "6.85 ms ± 72.6 µs per loop (mean ± std. dev. of 7 runs, 100 loops each)\n"
     ]
    }
   ],
   "source": [
    "%timeit C.apply(np.ptp, axis=0)"
   ]
  },
  {
   "cell_type": "code",
   "execution_count": 179,
   "metadata": {},
   "outputs": [
    {
     "name": "stdout",
     "output_type": "stream",
     "text": [
      "20.5 ms ± 118 µs per loop (mean ± std. dev. of 7 runs, 10 loops each)\n"
     ]
    }
   ],
   "source": [
    "%timeit C.agg(ptp1, axis=0)"
   ]
  }
 ],
 "metadata": {
  "interpreter": {
   "hash": "d48e748b304a38ab76d3545ca8e087d0cdc4f4670e05cdf73877ae6085002b9f"
  },
  "kernelspec": {
   "display_name": "Python 3.8.10 ('venv': venv)",
   "language": "python",
   "name": "python3"
  },
  "language_info": {
   "codemirror_mode": {
    "name": "ipython",
    "version": 3
   },
   "file_extension": ".py",
   "mimetype": "text/x-python",
   "name": "python",
   "nbconvert_exporter": "python",
   "pygments_lexer": "ipython3",
   "version": "3.8.10"
  },
  "orig_nbformat": 4
 },
 "nbformat": 4,
 "nbformat_minor": 2
}
