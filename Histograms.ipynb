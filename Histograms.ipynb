{
 "cells": [
  {
   "cell_type": "code",
   "execution_count": null,
   "metadata": {},
   "outputs": [],
   "source": [
    "### Histogram\n",
    "# From 1Darray\n",
    "# Fro nD array\n",
    "# From pandas DataFrame\n",
    "\n",
    "## Compare distributions\n",
    "# Overlayed\n",
    "# Faceted\n",
    "# Separated scales for each variable\n",
    "\n"
   ]
  }
 ],
 "metadata": {
  "language_info": {
   "name": "python"
  },
  "orig_nbformat": 4
 },
 "nbformat": 4,
 "nbformat_minor": 2
}
